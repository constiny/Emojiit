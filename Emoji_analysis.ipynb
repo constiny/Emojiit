{
 "cells": [
  {
   "cell_type": "markdown",
   "metadata": {},
   "source": [
    "# Raw data\n",
    "--------------\n",
    "## first check the raw data"
   ]
  },
  {
   "cell_type": "code",
   "execution_count": 4,
   "metadata": {},
   "outputs": [
    {
     "name": "stdout",
     "output_type": "stream",
     "text": [
      "18866900 data/emojitweets-01-04-2018.txt\n"
     ]
    }
   ],
   "source": [
    "# check how many lines\n",
    "! wc -l data/emojitweets-01-04-2018.txt"
   ]
  },
  {
   "cell_type": "code",
   "execution_count": 2,
   "metadata": {},
   "outputs": [
    {
     "name": "stdout",
     "output_type": "stream",
     "text": [
      "209430000 data/emojitweets-01-04-2018.txt\n"
     ]
    }
   ],
   "source": [
    "# check how many words\n",
    "! wc -w data/emojitweets-01-04-2018.txt"
   ]
  },
  {
   "cell_type": "code",
   "execution_count": 3,
   "metadata": {},
   "outputs": [
    {
     "data": {
      "text/plain": [
       "11.100392751326398"
      ]
     },
     "execution_count": 3,
     "metadata": {},
     "output_type": "execute_result"
    }
   ],
   "source": [
    "# On average the sentense are have 11 words\n",
    "209430000/18866900"
   ]
  },
  {
   "cell_type": "code",
   "execution_count": 15,
   "metadata": {},
   "outputs": [
    {
     "name": "stdout",
     "output_type": "stream",
     "text": [
      "15093520 emoji_train.txt\n"
     ]
    }
   ],
   "source": [
    "# check how many lines\n",
    "! wc -l emoji_train.txt"
   ]
  },
  {
   "cell_type": "code",
   "execution_count": 13,
   "metadata": {},
   "outputs": [
    {
     "name": "stdout",
     "output_type": "stream",
     "text": [
      "166721276 emoji_train.txt\n"
     ]
    }
   ],
   "source": [
    "# check how many words\n",
    "! wc -w emoji_train.txt"
   ]
  },
  {
   "cell_type": "markdown",
   "metadata": {},
   "source": [
    "## Train - test - validation split"
   ]
  },
  {
   "cell_type": "code",
   "execution_count": 6,
   "metadata": {},
   "outputs": [
    {
     "data": {
      "text/plain": [
       "(15093520.0, 1886690.0, 3773380.0)"
      ]
     },
     "execution_count": 6,
     "metadata": {},
     "output_type": "execute_result"
    }
   ],
   "source": [
    "# split on 80-10-10\n",
    "18866900 * 0.8, 18866900 * 0.1, 18866900 * 0.2"
   ]
  },
  {
   "cell_type": "code",
   "execution_count": 8,
   "metadata": {},
   "outputs": [],
   "source": [
    "! head -15093520 data/emojitweets-01-04-2018.txt >>emoji_train.txt\n"
   ]
  },
  {
   "cell_type": "code",
   "execution_count": 14,
   "metadata": {},
   "outputs": [
    {
     "name": "stdout",
     "output_type": "stream",
     "text": [
      "tail: error writing 'standard output': Broken pipe\n"
     ]
    }
   ],
   "source": [
    "! (tail -3773380 data/emojitweets-01-04-2018.txt | head -1886690) >> emoji_val.txt"
   ]
  },
  {
   "cell_type": "code",
   "execution_count": 10,
   "metadata": {},
   "outputs": [],
   "source": [
    "! tail -1886690 data/emojitweets-01-04-2018.txt >> emoji_test.txt"
   ]
  },
  {
   "cell_type": "code",
   "execution_count": 1,
   "metadata": {},
   "outputs": [],
   "source": [
    "# generate small_sample\n",
    "! head -1509352 data/emoji_train.txt >> data/emoji_ss.txt"
   ]
  },
  {
   "cell_type": "markdown",
   "metadata": {},
   "source": [
    "# Data processing"
   ]
  },
  {
   "cell_type": "code",
   "execution_count": 11,
   "metadata": {},
   "outputs": [],
   "source": [
    "# Python program to generate word vectors using Word2Vec \n",
    "  \n",
    "# importing all necessary modules \n",
    "from nltk.tokenize import sent_tokenize, word_tokenize \n",
    "import warnings \n",
    "  \n",
    "warnings.filterwarnings(action = 'ignore') \n",
    "  \n",
    "import gensim \n",
    "from gensim.models import Word2Vec\n",
    "\n",
    "from helper import *\n",
    "\n",
    "import pandas as pd\n",
    "import numpy as np\n",
    "import pickle\n"
   ]
  },
  {
   "cell_type": "code",
   "execution_count": 12,
   "metadata": {},
   "outputs": [],
   "source": [
    "# import for applying stemmer (abandon)\n",
    "\n",
    "# from nltk.corpus import stopwords\n",
    "# from nltk.stem.snowball import SnowballStemmer\n",
    "# from nltk.stem.wordnet import WordNetLemmatizer\n"
   ]
  },
  {
   "cell_type": "code",
   "execution_count": 5,
   "metadata": {},
   "outputs": [],
   "source": [
    "# loading raw data for 1st time\n",
    "filename = \"emoji_100k.txt\"\n",
    "f = data_input_preprocess(filename)\n",
    "data = data_tokenize(f)"
   ]
  },
  {
   "cell_type": "markdown",
   "metadata": {},
   "source": [
    "## stemmer (abandon since no improvement)\n"
   ]
  },
  {
   "cell_type": "code",
   "execution_count": 14,
   "metadata": {},
   "outputs": [],
   "source": [
    "# import stopwords\n",
    "stop = set(stopwords.words('english'))\n",
    "# remove stop words and snowball stemmer\n",
    "out = [[word for word in words if word not in stop] for words in data]\n",
    "snowball = SnowballStemmer('english')\n",
    "docs_snowball = [[snowball.stem(word) for word in words] for words in out]"
   ]
  },
  {
   "cell_type": "markdown",
   "metadata": {},
   "source": [
    "save emoji list"
   ]
  },
  {
   "cell_type": "code",
   "execution_count": 10,
   "metadata": {},
   "outputs": [
    {
     "data": {
      "text/plain": [
       "4358"
      ]
     },
     "execution_count": 10,
     "metadata": {},
     "output_type": "execute_result"
    }
   ],
   "source": [
    "# emoji_list = list(emoji_set)\n",
    "# with open(\"emoji_list.csv\", 'w', newline='') as myfile:\n",
    "#      w = csv.writer(myfile, quoting=csv.QUOTE_ALL)\n",
    "#      w.writerow(emoji_list)"
   ]
  },
  {
   "cell_type": "code",
   "execution_count": null,
   "metadata": {},
   "outputs": [],
   "source": [
    "# with open(\"emoji_list.csv\", 'r', newline='') as myfile:\n",
    "#      emoji_list = csv.reader(myfile, quoting=csv.QUOTE_ALL)"
   ]
  },
  {
   "cell_type": "markdown",
   "metadata": {},
   "source": [
    "# more EDA\n"
   ]
  },
  {
   "cell_type": "code",
   "execution_count": 7,
   "metadata": {},
   "outputs": [],
   "source": [
    "from collections import Counter\n",
    "# word frequency\n",
    "c = Counter(f.split(\" \"))\n",
    "\n",
    "# emoji_freq\n",
    "emoji_frequency = {}"
   ]
  },
  {
   "cell_type": "code",
   "execution_count": 10,
   "metadata": {},
   "outputs": [],
   "source": [
    "total = 0\n",
    "for emoji in emoji_list:\n",
    "    emoji_frequency[emoji] = c[emoji]\n",
    "    total += c[emoji]    \n",
    "\n",
    "sort_freq = {k: v for k, v in sorted(emoji_frequency.items(), key=lambda item: item[1], reverse=True)}"
   ]
  },
  {
   "cell_type": "code",
   "execution_count": 16,
   "metadata": {},
   "outputs": [
    {
     "data": {
      "text/plain": [
       "(0.09005648445253023, 11.04588432651893, 0.9947535101155993)"
      ]
     },
     "execution_count": 16,
     "metadata": {},
     "output_type": "execute_result"
    }
   ],
   "source": [
    "total/166721276, 166721276/15093520, total/15093520"
   ]
  },
  {
   "cell_type": "code",
   "execution_count": null,
   "metadata": {},
   "outputs": [],
   "source": [
    "non_zero_count = 0\n",
    "count = 0\n",
    "for key, value in sort_freq.items():\n",
    "    count += 1\n",
    "    if value > 0:\n",
    "        non_zero_count += 1\n",
    "count, non_zero_count"
   ]
  },
  {
   "cell_type": "code",
   "execution_count": 12,
   "metadata": {},
   "outputs": [
    {
     "data": {
      "text/plain": [
       "[('', 5310674),\n",
       " ('the', 3189556),\n",
       " ('to', 2985863),\n",
       " ('I', 2412952),\n",
       " ('a', 2212372),\n",
       " ('you', 2200494),\n",
       " ('and', 1902785),\n",
       " ('for', 1675695),\n",
       " ('is', 1536051),\n",
       " ('in', 1459770),\n",
       " ('of', 1406702),\n",
       " ('my', 1362921),\n",
       " ('this', 1361709),\n",
       " ('on', 1140375),\n",
       " ('me', 946792)]"
      ]
     },
     "execution_count": 12,
     "metadata": {},
     "output_type": "execute_result"
    }
   ],
   "source": [
    "c.most_common(15)"
   ]
  },
  {
   "cell_type": "code",
   "execution_count": 17,
   "metadata": {},
   "outputs": [
    {
     "data": {
      "text/plain": [
       "[('😂', 705079),\n",
       " ('❤️', 284522),\n",
       " ('🔥', 269516),\n",
       " ('😭', 251009),\n",
       " ('😍', 236299),\n",
       " ('👉', 137150),\n",
       " ('💕', 133256),\n",
       " ('✨', 123357),\n",
       " ('😊', 118604),\n",
       " ('👀', 112711),\n",
       " ('🤔', 109703),\n",
       " ('❤', 103403),\n",
       " ('😩', 101046),\n",
       " ('✅', 94448),\n",
       " ('💯', 89253),\n",
       " ('🙄', 86084),\n",
       " ('💜', 77168),\n",
       " ('😘', 75302),\n",
       " ('🎉', 74677),\n",
       " ('🚨', 69306)]"
      ]
     },
     "execution_count": 17,
     "metadata": {},
     "output_type": "execute_result"
    }
   ],
   "source": [
    "k = Counter(sort_freq) \n",
    "k.most_common(20)  "
   ]
  },
  {
   "cell_type": "code",
   "execution_count": 20,
   "metadata": {},
   "outputs": [],
   "source": [
    "df1 = pd.DataFrame(k.most_common(20), columns=[\"emoji\", \"count\"])"
   ]
  },
  {
   "cell_type": "code",
   "execution_count": 21,
   "metadata": {},
   "outputs": [],
   "source": [
    "df1[\"freq\"] = df1[\"count\"]/total"
   ]
  },
  {
   "cell_type": "code",
   "execution_count": 91,
   "metadata": {},
   "outputs": [
    {
     "data": {
      "text/html": [
       "<div>\n",
       "<style scoped>\n",
       "    .dataframe tbody tr th:only-of-type {\n",
       "        vertical-align: middle;\n",
       "    }\n",
       "\n",
       "    .dataframe tbody tr th {\n",
       "        vertical-align: top;\n",
       "    }\n",
       "\n",
       "    .dataframe thead th {\n",
       "        text-align: right;\n",
       "    }\n",
       "</style>\n",
       "<table border=\"1\" class=\"dataframe\">\n",
       "  <thead>\n",
       "    <tr style=\"text-align: right;\">\n",
       "      <th></th>\n",
       "      <th>emoji</th>\n",
       "      <th>count</th>\n",
       "      <th>freq</th>\n",
       "    </tr>\n",
       "  </thead>\n",
       "  <tbody>\n",
       "    <tr>\n",
       "      <th>0</th>\n",
       "      <td>😂</td>\n",
       "      <td>705079</td>\n",
       "      <td>0.046960</td>\n",
       "    </tr>\n",
       "    <tr>\n",
       "      <th>1</th>\n",
       "      <td>❤️</td>\n",
       "      <td>284522</td>\n",
       "      <td>0.018950</td>\n",
       "    </tr>\n",
       "    <tr>\n",
       "      <th>2</th>\n",
       "      <td>🔥</td>\n",
       "      <td>269516</td>\n",
       "      <td>0.017951</td>\n",
       "    </tr>\n",
       "    <tr>\n",
       "      <th>3</th>\n",
       "      <td>😭</td>\n",
       "      <td>251009</td>\n",
       "      <td>0.016718</td>\n",
       "    </tr>\n",
       "    <tr>\n",
       "      <th>4</th>\n",
       "      <td>😍</td>\n",
       "      <td>236299</td>\n",
       "      <td>0.015738</td>\n",
       "    </tr>\n",
       "    <tr>\n",
       "      <th>5</th>\n",
       "      <td>👉</td>\n",
       "      <td>137150</td>\n",
       "      <td>0.009135</td>\n",
       "    </tr>\n",
       "    <tr>\n",
       "      <th>6</th>\n",
       "      <td>💕</td>\n",
       "      <td>133256</td>\n",
       "      <td>0.008875</td>\n",
       "    </tr>\n",
       "    <tr>\n",
       "      <th>7</th>\n",
       "      <td>✨</td>\n",
       "      <td>123357</td>\n",
       "      <td>0.008216</td>\n",
       "    </tr>\n",
       "    <tr>\n",
       "      <th>8</th>\n",
       "      <td>😊</td>\n",
       "      <td>118604</td>\n",
       "      <td>0.007899</td>\n",
       "    </tr>\n",
       "    <tr>\n",
       "      <th>9</th>\n",
       "      <td>👀</td>\n",
       "      <td>112711</td>\n",
       "      <td>0.007507</td>\n",
       "    </tr>\n",
       "    <tr>\n",
       "      <th>10</th>\n",
       "      <td>🤔</td>\n",
       "      <td>109703</td>\n",
       "      <td>0.007307</td>\n",
       "    </tr>\n",
       "    <tr>\n",
       "      <th>11</th>\n",
       "      <td>❤</td>\n",
       "      <td>103403</td>\n",
       "      <td>0.006887</td>\n",
       "    </tr>\n",
       "    <tr>\n",
       "      <th>12</th>\n",
       "      <td>😩</td>\n",
       "      <td>101046</td>\n",
       "      <td>0.006730</td>\n",
       "    </tr>\n",
       "    <tr>\n",
       "      <th>13</th>\n",
       "      <td>✅</td>\n",
       "      <td>94448</td>\n",
       "      <td>0.006291</td>\n",
       "    </tr>\n",
       "    <tr>\n",
       "      <th>14</th>\n",
       "      <td>💯</td>\n",
       "      <td>89253</td>\n",
       "      <td>0.005945</td>\n",
       "    </tr>\n",
       "    <tr>\n",
       "      <th>15</th>\n",
       "      <td>🙄</td>\n",
       "      <td>86084</td>\n",
       "      <td>0.005733</td>\n",
       "    </tr>\n",
       "    <tr>\n",
       "      <th>16</th>\n",
       "      <td>💜</td>\n",
       "      <td>77168</td>\n",
       "      <td>0.005140</td>\n",
       "    </tr>\n",
       "    <tr>\n",
       "      <th>17</th>\n",
       "      <td>😘</td>\n",
       "      <td>75302</td>\n",
       "      <td>0.005015</td>\n",
       "    </tr>\n",
       "    <tr>\n",
       "      <th>18</th>\n",
       "      <td>🎉</td>\n",
       "      <td>74677</td>\n",
       "      <td>0.004974</td>\n",
       "    </tr>\n",
       "    <tr>\n",
       "      <th>19</th>\n",
       "      <td>🚨</td>\n",
       "      <td>69306</td>\n",
       "      <td>0.004616</td>\n",
       "    </tr>\n",
       "  </tbody>\n",
       "</table>\n",
       "</div>"
      ],
      "text/plain": [
       "   emoji   count      freq\n",
       "0      😂  705079  0.046960\n",
       "1     ❤️  284522  0.018950\n",
       "2      🔥  269516  0.017951\n",
       "3      😭  251009  0.016718\n",
       "4      😍  236299  0.015738\n",
       "5      👉  137150  0.009135\n",
       "6      💕  133256  0.008875\n",
       "7      ✨  123357  0.008216\n",
       "8      😊  118604  0.007899\n",
       "9      👀  112711  0.007507\n",
       "10     🤔  109703  0.007307\n",
       "11     ❤  103403  0.006887\n",
       "12     😩  101046  0.006730\n",
       "13     ✅   94448  0.006291\n",
       "14     💯   89253  0.005945\n",
       "15     🙄   86084  0.005733\n",
       "16     💜   77168  0.005140\n",
       "17     😘   75302  0.005015\n",
       "18     🎉   74677  0.004974\n",
       "19     🚨   69306  0.004616"
      ]
     },
     "execution_count": 91,
     "metadata": {},
     "output_type": "execute_result"
    }
   ],
   "source": [
    "df1"
   ]
  },
  {
   "cell_type": "code",
   "execution_count": 48,
   "metadata": {},
   "outputs": [
    {
     "data": {
      "text/plain": [
       "<matplotlib.axes._subplots.AxesSubplot at 0x7f346337d438>"
      ]
     },
     "execution_count": 48,
     "metadata": {},
     "output_type": "execute_result"
    },
    {
     "data": {
      "image/png": "[encoded data removed]",
      "text/plain": [
       "<Figure size 864x504 with 1 Axes>"
      ]
     },
     "metadata": {
      "needs_background": "light"
     },
     "output_type": "display_data"
    }
   ],
   "source": [
    "# df1[\"freq\"].plot(kind=\"bar\", figsize=(12,7))\n",
    "df1.plot.bar(x='emoji', y='freq', rot=0, figsize=(12,7))"
   ]
  },
  {
   "cell_type": "code",
   "execution_count": null,
   "metadata": {},
   "outputs": [],
   "source": [
    "# emoji position"
   ]
  },
  {
   "cell_type": "code",
   "execution_count": 45,
   "metadata": {},
   "outputs": [],
   "source": [
    "count_1st = 0\n",
    "count_last = 0\n",
    "for sen in s.split(\"\\n\"):\n",
    "    if sen:\n",
    "        if sen[0] in emoji_list:\n",
    "            count_1st += 1\n",
    "        if sen[-1] in emoji_list:\n",
    "            count_last += 1\n"
   ]
  },
  {
   "cell_type": "code",
   "execution_count": 49,
   "metadata": {},
   "outputs": [
    {
     "data": {
      "text/plain": [
       "(1489548, 8855588, 0.09920840967150586, 0.5898089905032072)"
      ]
     },
     "execution_count": 49,
     "metadata": {},
     "output_type": "execute_result"
    }
   ],
   "source": [
    "count_1st,count_last,count_1st/total,count_last/total"
   ]
  },
  {
   "cell_type": "markdown",
   "metadata": {},
   "source": [
    "# CBOW model"
   ]
  },
  {
   "cell_type": "code",
   "execution_count": 26,
   "metadata": {},
   "outputs": [],
   "source": [
    "# Create CBOW model \n",
    "model1 = gensim.models.Word2Vec(data, \n",
    "                                min_count = 10,  \n",
    "                                size = 300, \n",
    "                                window = 16,\n",
    "                                workers= 8) "
   ]
  },
  {
   "cell_type": "code",
   "execution_count": 39,
   "metadata": {},
   "outputs": [],
   "source": [
    "# # Save CBOW model\n",
    "# import pickle\n",
    "# with open('cbow_ss.pkl', 'wb') as f:\n",
    "#     pickle.dump(model1, f)"
   ]
  },
  {
   "cell_type": "code",
   "execution_count": 3,
   "metadata": {},
   "outputs": [],
   "source": [
    "# load CBOW model\n",
    "import pickle\n",
    "with open('cbow_ss.pkl', 'rb') as f2:\n",
    "    model1_1 = pickle.load(f2)\n",
    "# print(model1_1 == model1)"
   ]
  },
  {
   "cell_type": "code",
   "execution_count": 10,
   "metadata": {},
   "outputs": [
    {
     "data": {
      "text/plain": [
       "[('doesn', 0.787746012210846),\n",
       " ('wouldn', 0.7854527831077576),\n",
       " ('shouldn', 0.7601009011268616),\n",
       " ('didn', 0.7520523071289062),\n",
       " ('ain', 0.6917070746421814),\n",
       " ('weren', 0.6814011931419373),\n",
       " ('aren', 0.6613358855247498),\n",
       " ('hadn', 0.6555649638175964),\n",
       " ('couldn', 0.641566812992096),\n",
       " ('isn', 0.636486291885376),\n",
       " ('won', 0.628865122795105),\n",
       " ('hasn', 0.6226808428764343),\n",
       " ('challa', 0.5892993807792664),\n",
       " ('wasn', 0.5774762630462646),\n",
       " ('can', 0.5767848491668701),\n",
       " ('haven', 0.5723670125007629),\n",
       " ('appropiate', 0.5111942887306213),\n",
       " ('❤️🤞', 0.5082084536552429),\n",
       " ('fantastic👌🏻isn', 0.4570172429084778),\n",
       " ('57k', 0.44462651014328003),\n",
       " ('dont', 0.4446195662021637),\n",
       " ('198k', 0.441133588552475),\n",
       " ('sh', 0.43389707803726196),\n",
       " ('questiondon', 0.43332403898239136),\n",
       " ('stogie', 0.43313246965408325),\n",
       " ('ion', 0.4327543377876282),\n",
       " ('1047k', 0.4226207733154297),\n",
       " ('2764846', 0.4126243591308594),\n",
       " ('corinne', 0.40902411937713623),\n",
       " ('friday😘thank', 0.4059950113296509)]"
      ]
     },
     "execution_count": 10,
     "metadata": {},
     "output_type": "execute_result"
    }
   ],
   "source": [
    "model1_1.most_similar(\"don\", topn=30)"
   ]
  },
  {
   "cell_type": "markdown",
   "metadata": {},
   "source": [
    "# skip-gram model"
   ]
  },
  {
   "cell_type": "code",
   "execution_count": 33,
   "metadata": {},
   "outputs": [],
   "source": [
    "# Create skip-gram model \n",
    "model2 = gensim.models.Word2Vec(data, \n",
    "                                min_count = 10,  \n",
    "                                size = 300, \n",
    "                                window = 16,\n",
    "                                sg = 1,\n",
    "                                workers=8) "
   ]
  },
  {
   "cell_type": "code",
   "execution_count": 38,
   "metadata": {},
   "outputs": [],
   "source": [
    "# # Save skip-gram model\n",
    "# import pickle\n",
    "# with open('sg_ss.pkl', 'wb') as f:\n",
    "#     pickle.dump(model2, f)\n"
   ]
  },
  {
   "cell_type": "code",
   "execution_count": 52,
   "metadata": {},
   "outputs": [
    {
     "ename": "NameError",
     "evalue": "name 'model2' is not defined",
     "output_type": "error",
     "traceback": [
      "\u001b[0;31m---------------------------------------------------------------------------\u001b[0m",
      "\u001b[0;31mNameError\u001b[0m                                 Traceback (most recent call last)",
      "\u001b[0;32m<ipython-input-52-f06aada7a4e3>\u001b[0m in \u001b[0;36m<module>\u001b[0;34m\u001b[0m\n\u001b[1;32m      3\u001b[0m \u001b[0;32mwith\u001b[0m \u001b[0mopen\u001b[0m\u001b[0;34m(\u001b[0m\u001b[0;34m'sg.pkl'\u001b[0m\u001b[0;34m,\u001b[0m \u001b[0;34m'rb'\u001b[0m\u001b[0;34m)\u001b[0m \u001b[0;32mas\u001b[0m \u001b[0mf2\u001b[0m\u001b[0;34m:\u001b[0m\u001b[0;34m\u001b[0m\u001b[0;34m\u001b[0m\u001b[0m\n\u001b[1;32m      4\u001b[0m     \u001b[0mmodel2_2\u001b[0m \u001b[0;34m=\u001b[0m \u001b[0mpickle\u001b[0m\u001b[0;34m.\u001b[0m\u001b[0mload\u001b[0m\u001b[0;34m(\u001b[0m\u001b[0mf2\u001b[0m\u001b[0;34m)\u001b[0m\u001b[0;34m\u001b[0m\u001b[0;34m\u001b[0m\u001b[0m\n\u001b[0;32m----> 5\u001b[0;31m \u001b[0mprint\u001b[0m\u001b[0;34m(\u001b[0m\u001b[0mmodel2_2\u001b[0m \u001b[0;34m==\u001b[0m \u001b[0mmodel2\u001b[0m\u001b[0;34m)\u001b[0m\u001b[0;34m\u001b[0m\u001b[0;34m\u001b[0m\u001b[0m\n\u001b[0m",
      "\u001b[0;31mNameError\u001b[0m: name 'model2' is not defined"
     ]
    }
   ],
   "source": [
    "# load skip-gram model\n",
    "import pickle\n",
    "with open('sg.pkl', 'rb') as f2:\n",
    "    model2_2 = pickle.load(f2)\n",
    "# print(model2_2 == model2)"
   ]
  },
  {
   "cell_type": "code",
   "execution_count": null,
   "metadata": {},
   "outputs": [],
   "source": []
  },
  {
   "cell_type": "code",
   "execution_count": 55,
   "metadata": {},
   "outputs": [
    {
     "data": {
      "text/plain": [
       "[('sunny', 0.6808488965034485),\n",
       " ('snowy', 0.6578385829925537),\n",
       " ('chilly', 0.600202202796936),\n",
       " ('gloomy', 0.5940763354301453),\n",
       " ('cloudy', 0.5824849605560303),\n",
       " ('blustery', 0.5682125091552734),\n",
       " ('sunnier', 0.5676156282424927),\n",
       " ('🌧', 0.5584330558776855),\n",
       " ('🌦', 0.5485426783561707),\n",
       " ('rain', 0.5380775332450867)]"
      ]
     },
     "execution_count": 55,
     "metadata": {},
     "output_type": "execute_result"
    }
   ],
   "source": [
    "model1_1.most_similar(\"rainy\",topn=10)"
   ]
  },
  {
   "cell_type": "code",
   "execution_count": 56,
   "metadata": {},
   "outputs": [
    {
     "data": {
      "text/plain": [
       "[('☔️', 0.7822550535202026),\n",
       " ('rain', 0.6985459923744202),\n",
       " ('🌦', 0.6563682556152344),\n",
       " ('🌧️', 0.6422037482261658),\n",
       " ('☔', 0.5972961783409119),\n",
       " ('cloudy', 0.5852392911911011),\n",
       " ('torrential', 0.582399308681488),\n",
       " ('🌨', 0.573817253112793),\n",
       " ('⛈', 0.5628723502159119),\n",
       " ('🌧☔️', 0.5614819526672363)]"
      ]
     },
     "execution_count": 56,
     "metadata": {},
     "output_type": "execute_result"
    }
   ],
   "source": [
    "model1_1.most_similar('🌧',topn=10)"
   ]
  },
  {
   "cell_type": "code",
   "execution_count": 57,
   "metadata": {},
   "outputs": [
    {
     "data": {
      "text/plain": [
       "[('cock', 0.7351218461990356),\n",
       " ('dick', 0.7336507439613342),\n",
       " ('🍆🍆', 0.6696395874023438),\n",
       " ('🍆💦', 0.6680201292037964),\n",
       " ('stroking', 0.6612754464149475),\n",
       " ('dildo', 0.6525961756706238),\n",
       " ('👅💦', 0.6395246386528015),\n",
       " ('nutt', 0.6178919076919556),\n",
       " ('😈💦', 0.6133952140808105),\n",
       " ('tits', 0.6108881831169128)]"
      ]
     },
     "execution_count": 57,
     "metadata": {},
     "output_type": "execute_result"
    }
   ],
   "source": [
    "model1_1.most_similar('🍆',topn=10)"
   ]
  },
  {
   "cell_type": "markdown",
   "metadata": {},
   "source": [
    "\n",
    "# Scoring"
   ]
  },
  {
   "cell_type": "markdown",
   "metadata": {},
   "source": [
    "________________________________________\n",
    "score test zone\n",
    "            "
   ]
  },
  {
   "cell_type": "code",
   "execution_count": 35,
   "metadata": {},
   "outputs": [
    {
     "data": {
      "text/plain": [
       "(0.21927554980595085, 0.3115808823529412)"
      ]
     },
     "execution_count": 35,
     "metadata": {},
     "output_type": "execute_result"
    }
   ],
   "source": [
    "score1 = word2vec_score(val_dict, model1);score1[:2] "
   ]
  },
  {
   "cell_type": "code",
   "execution_count": 36,
   "metadata": {},
   "outputs": [
    {
     "data": {
      "text/plain": [
       "(0.2632600258732212, 0.39629990262901654)"
      ]
     },
     "execution_count": 36,
     "metadata": {},
     "output_type": "execute_result"
    }
   ],
   "source": [
    "score2 = word2vec_score(val_dict, model2);score2[:2]"
   ]
  },
  {
   "cell_type": "code",
   "execution_count": null,
   "metadata": {},
   "outputs": [],
   "source": [
    "# baseline for ss, 0.04464"
   ]
  },
  {
   "cell_type": "code",
   "execution_count": 22,
   "metadata": {},
   "outputs": [
    {
     "data": {
      "text/plain": [
       "((0.16235446313065977, 0.21978984238178634),\n",
       " (0.2128072445019405, 0.2634107285828663))"
      ]
     },
     "execution_count": 22,
     "metadata": {},
     "output_type": "execute_result"
    }
   ],
   "source": [
    "score1[0:2],score2[0:2]"
   ]
  },
  {
   "cell_type": "markdown",
   "metadata": {},
   "source": [
    "--------------------\n",
    "Weighted score"
   ]
  },
  {
   "cell_type": "code",
   "execution_count": 84,
   "metadata": {},
   "outputs": [
    {
     "data": {
      "text/plain": [
       "0.267386829730014"
      ]
     },
     "execution_count": 84,
     "metadata": {},
     "output_type": "execute_result"
    }
   ],
   "source": [
    "word2vec_weighted_score(val_dict, model1, emoji_frequency)    # CBOW good at predicting more frequent word (high weight)"
   ]
  },
  {
   "cell_type": "code",
   "execution_count": 85,
   "metadata": {},
   "outputs": [
    {
     "data": {
      "text/plain": [
       "0.06241611360445485"
      ]
     },
     "execution_count": 85,
     "metadata": {},
     "output_type": "execute_result"
    }
   ],
   "source": [
    "word2vec_weighted_score(val_dict, model2, emoji_frequency)    # Skip-gram good at predicting less frequent word (low weight)"
   ]
  },
  {
   "cell_type": "markdown",
   "metadata": {},
   "source": [
    "--------------------\n",
    "more restriction on prediction"
   ]
  },
  {
   "cell_type": "code",
   "execution_count": 78,
   "metadata": {},
   "outputs": [],
   "source": []
  },
  {
   "cell_type": "code",
   "execution_count": 79,
   "metadata": {},
   "outputs": [],
   "source": [
    "# new predictor with higher requirement to predict # emoji_prodictor_restricted\n",
    "score1 = word2vec_score(val_dict, model1)\n",
    "score2 = word2vec_score(val_dict, model2)"
   ]
  },
  {
   "cell_type": "code",
   "execution_count": 80,
   "metadata": {},
   "outputs": [
    {
     "data": {
      "text/plain": [
       "((0.08711885500933417, 0.5072463768115942),\n",
       " (0.06782825140012445, 0.5647668393782384))"
      ]
     },
     "execution_count": 80,
     "metadata": {},
     "output_type": "execute_result"
    }
   ],
   "source": [
    "# score for CBOW and skipgram for SS WITH min_count = 10,  size = 300, window = 16 and new notes / predictor sim>=0.55\n",
    "# We can see improvement on accuracy but a drop in coverage\n",
    "score1[0:2],score2[0:2]"
   ]
  },
  {
   "cell_type": "code",
   "execution_count": 84,
   "metadata": {},
   "outputs": [
    {
     "data": {
      "text/plain": [
       "0.5681407491990289"
      ]
     },
     "execution_count": 84,
     "metadata": {},
     "output_type": "execute_result"
    }
   ],
   "source": [
    "word2vec_weighted_score(val_dict, model1, emoji_frequency)"
   ]
  },
  {
   "cell_type": "code",
   "execution_count": 85,
   "metadata": {},
   "outputs": [
    {
     "data": {
      "text/plain": [
       "0.12596177586164578"
      ]
     },
     "execution_count": 85,
     "metadata": {},
     "output_type": "execute_result"
    }
   ],
   "source": [
    "word2vec_weighted_score(val_dict, model2, emoji_frequency)"
   ]
  },
  {
   "cell_type": "markdown",
   "metadata": {},
   "source": [
    "----------------------------------------------------\n",
    "Model tuning history"
   ]
  },
  {
   "cell_type": "code",
   "execution_count": null,
   "metadata": {},
   "outputs": [],
   "source": [
    "# FULL TRAIN\n",
    "# score for CBOW and skipgram for SS WITH min_count = 10,  size = 300, window = 16 and no stemmer\n",
    "\n",
    "# score1[:2] (0.2809917355371901, 0.4602888086642599)\n",
    "# score2[:2] (0.30413223140495865, 0.4302416212003118)"
   ]
  },
  {
   "cell_type": "code",
   "execution_count": null,
   "metadata": {},
   "outputs": [],
   "source": []
  },
  {
   "cell_type": "code",
   "execution_count": 37,
   "metadata": {},
   "outputs": [
    {
     "data": {
      "text/plain": [
       "((0.21927554980595085, 0.3115808823529412),\n",
       " (0.2632600258732212, 0.39629990262901654))"
      ]
     },
     "execution_count": 37,
     "metadata": {},
     "output_type": "execute_result"
    }
   ],
   "source": [
    "# score for CBOW and skipgram for SS WITH min_count = 10,  size = 300, window = 16, no stemmer and seperated connected emojis.\n",
    "# Looks like stemmer does not help much\n",
    "score1[0:2],score2[0:2]"
   ]
  },
  {
   "cell_type": "code",
   "execution_count": 108,
   "metadata": {},
   "outputs": [
    {
     "data": {
      "text/plain": [
       "((0.1630012936610608, 0.2202797202797203),\n",
       " (0.21798188874514876, 0.27897350993377484))"
      ]
     },
     "execution_count": 108,
     "metadata": {},
     "output_type": "execute_result"
    }
   ],
   "source": [
    "# score for CBOW and skipgram for SS WITH min_count = 10,  size = 300, window = 16 and no stemmer\n",
    "# Looks like stemmer does not help much\n",
    "score1[0:2],score2[0:2]"
   ]
  },
  {
   "cell_type": "code",
   "execution_count": null,
   "metadata": {},
   "outputs": [],
   "source": []
  },
  {
   "cell_type": "code",
   "execution_count": 76,
   "metadata": {},
   "outputs": [
    {
     "data": {
      "text/plain": [
       "0.256142944437114"
      ]
     },
     "execution_count": 76,
     "metadata": {},
     "output_type": "execute_result"
    }
   ],
   "source": [
    "# Weighted score for CBOW and skipgram for SS WITH min_count = 10,  size = 300, window = 16 and new notes\n",
    "word2vec_weighted_score(val_dict, model1, emoji_frequency)"
   ]
  },
  {
   "cell_type": "code",
   "execution_count": 77,
   "metadata": {},
   "outputs": [
    {
     "data": {
      "text/plain": [
       "0.09182329105692395"
      ]
     },
     "execution_count": 77,
     "metadata": {},
     "output_type": "execute_result"
    }
   ],
   "source": [
    "word2vec_weighted_score(val_dict, model2, emoji_frequency)"
   ]
  },
  {
   "cell_type": "code",
   "execution_count": 27,
   "metadata": {},
   "outputs": [
    {
     "data": {
      "text/plain": [
       "((0.16490354698195395, 0.19188993482983346),\n",
       " (0.22028624766645924, 0.2512420156139106))"
      ]
     },
     "execution_count": 27,
     "metadata": {},
     "output_type": "execute_result"
    }
   ],
   "source": [
    "# score for CBOW and skipgram for SS WITH min_count = 10,  size = 300, window = 16 and new notes\n",
    "score1[0:2],score2[0:2]"
   ]
  },
  {
   "cell_type": "code",
   "execution_count": 123,
   "metadata": {},
   "outputs": [
    {
     "data": {
      "text/plain": [
       "((0.16936488169364883, 0.19470293486041518),\n",
       " (0.22478206724782068, 0.2565742714996446))"
      ]
     },
     "execution_count": 123,
     "metadata": {},
     "output_type": "execute_result"
    }
   ],
   "source": [
    "# score for CBOW and skipgram for SS WITH min_count = 10,  size = 300, window = 16 and new notes\n",
    "score1[0:2],score2[0:2]"
   ]
  },
  {
   "cell_type": "code",
   "execution_count": 104,
   "metadata": {},
   "outputs": [
    {
     "data": {
      "text/plain": [
       "((0.16084788029925187, 0.19068736141906872),\n",
       " (0.21571072319201995, 0.25181950509461426))"
      ]
     },
     "execution_count": 104,
     "metadata": {},
     "output_type": "execute_result"
    }
   ],
   "source": [
    "# score for CBOW and skipgram for SS WITH min_count = 10,  size = 300, window = 16\n",
    "score1[0:2],score2[0:2]"
   ]
  },
  {
   "cell_type": "code",
   "execution_count": 82,
   "metadata": {},
   "outputs": [
    {
     "data": {
      "text/plain": [
       "((0.15149625935162095, 0.17711370262390672),\n",
       " (0.21571072319201995, 0.24162011173184358))"
      ]
     },
     "execution_count": 82,
     "metadata": {},
     "output_type": "execute_result"
    }
   ],
   "source": [
    "# score for CBOW and skipgram for SS WITH min_count = 10,  size = 300, window = 20\n",
    "score1[0:2],score2[0:2]"
   ]
  },
  {
   "cell_type": "code",
   "execution_count": 77,
   "metadata": {},
   "outputs": [
    {
     "data": {
      "text/plain": [
       "((0.1589775561097257, 0.19480519480519481),\n",
       " (0.18952618453865336, 0.22943396226415094))"
      ]
     },
     "execution_count": 77,
     "metadata": {},
     "output_type": "execute_result"
    }
   ],
   "source": [
    "# score for CBOW and skipgram for SS WITH min_count = 10,  size = 150, window = 10\n",
    "score1[0:2],score2[0:2]"
   ]
  },
  {
   "cell_type": "code",
   "execution_count": 72,
   "metadata": {},
   "outputs": [
    {
     "data": {
      "text/plain": [
       "((0.17206982543640897, 0.21052631578947367),\n",
       " (0.2013715710723192, 0.2492283950617284))"
      ]
     },
     "execution_count": 72,
     "metadata": {},
     "output_type": "execute_result"
    }
   ],
   "source": [
    "# score for CBOW and skipgram for SS WITH min_count = 10,  size = 300, window = 10\n",
    "score1[0:2],score2[0:2]"
   ]
  },
  {
   "cell_type": "code",
   "execution_count": 66,
   "metadata": {},
   "outputs": [
    {
     "data": {
      "text/plain": [
       "((0.16521197007481297, 0.1990984222389181),\n",
       " (0.20199501246882792, 0.2577565632458234))"
      ]
     },
     "execution_count": 66,
     "metadata": {},
     "output_type": "execute_result"
    }
   ],
   "source": [
    "# score for CBOW and skipgram for SS WITH min_count = 10,  size = 500, window = 10\n",
    "score1[0:2],score2[0:2]"
   ]
  },
  {
   "cell_type": "code",
   "execution_count": 61,
   "metadata": {},
   "outputs": [
    {
     "data": {
      "text/plain": [
       "((0.16390532544378697, 0.22124600638977635),\n",
       " (0.17810650887573964, 0.2872137404580153))"
      ]
     },
     "execution_count": 61,
     "metadata": {},
     "output_type": "execute_result"
    }
   ],
   "source": [
    "# score for CBOW and skipgram for SS WITH min_count = 5,  size = 500, window = 8\n",
    "score1[0:2],score2[0:2]"
   ]
  },
  {
   "cell_type": "code",
   "execution_count": 55,
   "metadata": {},
   "outputs": [
    {
     "data": {
      "text/plain": [
       "((0.16209476309226933, 0.19667170953101362),\n",
       " (0.19887780548628428, 0.2570507655116841))"
      ]
     },
     "execution_count": 55,
     "metadata": {},
     "output_type": "execute_result"
    }
   ],
   "source": [
    "# score for CBOW and skipgram for SS WITH min_count = 10,  size = 500, window = 8\n",
    "score1[0:2],score2[0:2]"
   ]
  },
  {
   "cell_type": "code",
   "execution_count": 50,
   "metadata": {},
   "outputs": [
    {
     "data": {
      "text/plain": [
       "((0.14526184538653367, 0.19082719082719082),\n",
       " (0.1502493765586035, 0.21929026387625114))"
      ]
     },
     "execution_count": 50,
     "metadata": {},
     "output_type": "execute_result"
    }
   ],
   "source": [
    "# score for CBOW and skipgram for SS WITH min_count = 10,  size = 500, window = 3\n",
    "score1[0:2],score2[0:2]"
   ]
  },
  {
   "cell_type": "code",
   "execution_count": 56,
   "metadata": {},
   "outputs": [
    {
     "data": {
      "text/plain": [
       "((0.14964788732394366, 0.18695014662756598),\n",
       " (0.15307262569832403, 0.23539518900343642))"
      ]
     },
     "execution_count": 56,
     "metadata": {},
     "output_type": "execute_result"
    }
   ],
   "source": [
    "# # score for CBOW and skipgram for small sample with SnowballStemmer\n",
    "# score1[0:2],score2[0:2]"
   ]
  },
  {
   "cell_type": "markdown",
   "metadata": {},
   "source": [
    "____________________________________________\n",
    "\n",
    "Testing Zone"
   ]
  },
  {
   "cell_type": "code",
   "execution_count": 150,
   "metadata": {},
   "outputs": [
    {
     "data": {
      "text/plain": [
       "[('👍', 0.5708750486373901),\n",
       " ('😉', 0.5507802963256836),\n",
       " ('😁', 0.5429814457893372),\n",
       " ('⭐️i', 0.5380228757858276),\n",
       " ('awesom', 0.5341282486915588),\n",
       " ('😅', 0.5143481492996216),\n",
       " ('🤗', 0.5049486756324768),\n",
       " ('😏', 0.503909707069397),\n",
       " ('😂😂😂😂😂😂😂😂😂😂😂😂😂😂😂😂😂😂😂😂😂😂😂😂😂😂😂😂😂😂😂😂😂😂', 0.4923427402973175),\n",
       " ('😘', 0.4906120002269745),\n",
       " ('wonder', 0.48665982484817505),\n",
       " ('goan', 0.4851222038269043),\n",
       " ('jeanett', 0.47811296582221985),\n",
       " ('skyrim', 0.4774525463581085),\n",
       " ('🙀🙀🙀', 0.47732964158058167),\n",
       " ('😊', 0.47706007957458496),\n",
       " ('👍👊', 0.4713195264339447),\n",
       " ('carsss', 0.47071343660354614),\n",
       " ('😍thank', 0.4696727693080902),\n",
       " ('💞🌺💕', 0.4684681296348572)]"
      ]
     },
     "execution_count": 150,
     "metadata": {},
     "output_type": "execute_result"
    }
   ],
   "source": [
    "model2.most_similar('😀',topn=20)"
   ]
  },
  {
   "cell_type": "code",
   "execution_count": 115,
   "metadata": {},
   "outputs": [
    {
     "data": {
      "text/plain": [
       "[]"
      ]
     },
     "execution_count": 115,
     "metadata": {},
     "output_type": "execute_result"
    }
   ],
   "source": [
    "sentense = \"under\"\n",
    "[word for word in sentense.lower().split(\" \") if word not in stop]"
   ]
  },
  {
   "cell_type": "code",
   "execution_count": 116,
   "metadata": {},
   "outputs": [
    {
     "data": {
      "text/plain": [
       "[]"
      ]
     },
     "execution_count": 116,
     "metadata": {},
     "output_type": "execute_result"
    }
   ],
   "source": [
    "word_pipeline(sentense)model2"
   ]
  },
  {
   "cell_type": "code",
   "execution_count": 65,
   "metadata": {},
   "outputs": [
    {
     "data": {
      "text/plain": [
       "'😀'"
      ]
     },
     "execution_count": 65,
     "metadata": {},
     "output_type": "execute_result"
    }
   ],
   "source": [
    "emoji_prodictor('us', model1)"
   ]
  },
  {
   "cell_type": "code",
   "execution_count": 71,
   "metadata": {},
   "outputs": [
    {
     "data": {
      "text/plain": [
       "'🚌'"
      ]
     },
     "execution_count": 71,
     "metadata": {},
     "output_type": "execute_result"
    }
   ],
   "source": [
    "emoji_prodictor('nyc', model1)"
   ]
  },
  {
   "cell_type": "markdown",
   "metadata": {},
   "source": [
    "-----------------------\n",
    "# Ensemble model"
   ]
  },
  {
   "cell_type": "code",
   "execution_count": 68,
   "metadata": {},
   "outputs": [
    {
     "data": {
      "text/plain": [
       "((0.2809917355371901, 0.4602888086642599),\n",
       " (0.30413223140495865, 0.4302416212003118))"
      ]
     },
     "execution_count": 68,
     "metadata": {},
     "output_type": "execute_result"
    }
   ],
   "source": [
    "# original scores\n",
    "score1[0:2],score2[0:2]"
   ]
  },
  {
   "cell_type": "code",
   "execution_count": 24,
   "metadata": {},
   "outputs": [],
   "source": [
    "word=\"happy\""
   ]
  },
  {
   "cell_type": "code",
   "execution_count": 30,
   "metadata": {},
   "outputs": [],
   "source": [
    "sim = model1.most_similar(word,topn=75)\n",
    "sim.extend(model2.most_similar(word,topn=75))\n",
    "sim = pd.DataFrame(sim).sort_values(by=1, ascending=False).set_index(0).to_dict()[1]"
   ]
  },
  {
   "cell_type": "code",
   "execution_count": 40,
   "metadata": {},
   "outputs": [],
   "source": [
    "sim = pd.DataFrame(sim).sort_values(by=1, ascending=False).set_index(0).to_dict()[1]"
   ]
  },
  {
   "cell_type": "code",
   "execution_count": 41,
   "metadata": {},
   "outputs": [],
   "source": [
    "# ensemble by combine the correlations list\n",
    "def ensemble_emoji_prodictor(word, model1, model2):\n",
    "    sim = model1.most_similar(word,topn=75)\n",
    "    sim.extend(model2.most_similar(word,topn=75))\n",
    "    sim = pd.DataFrame(sim).sort_values(by=1, ascending=False).set_index(0).to_dict()[1]\n",
    "    \n",
    "    for i in sim:\n",
    "        if i in emoji_list:\n",
    "            return i\n",
    "               \n",
    "    return word"
   ]
  },
  {
   "cell_type": "code",
   "execution_count": 44,
   "metadata": {},
   "outputs": [],
   "source": [
    "# define score function \n",
    "def word2vec_score_emsemble(val_dict,model1, model2):\n",
    "    total_words = 0\n",
    "    total_predicts = 0\n",
    "    correct = 0\n",
    "    words = []\n",
    "    word_vectors = model1.wv\n",
    "    for word in val_dict:\n",
    "#         print(word)\n",
    "        if word:\n",
    "            w = word.lower()\n",
    "            words.append(w)\n",
    "            if w in word_vectors:\n",
    "                total_words += 1\n",
    "                pred = ensemble_emoji_prodictor(w, model1, model2)\n",
    "                if pred in val_dict[word]:\n",
    "                    correct += 1\n",
    "                    total_predicts += 1\n",
    "                elif pred in emoji_list:\n",
    "                    total_predicts += 1\n",
    "    return correct/total_words, correct/total_predicts, words\n",
    "            "
   ]
  },
  {
   "cell_type": "code",
   "execution_count": 46,
   "metadata": {},
   "outputs": [
    {
     "data": {
      "text/plain": [
       "(0.20633893919793014, 0.22592067988668554)"
      ]
     },
     "execution_count": 46,
     "metadata": {},
     "output_type": "execute_result"
    }
   ],
   "source": [
    "word2vec_score_emsemble(val_dict,model1, model2)[:2]"
   ]
  },
  {
   "cell_type": "markdown",
   "metadata": {},
   "source": [
    "ensemble the correlation doesnot work\n"
   ]
  },
  {
   "cell_type": "code",
   "execution_count": 74,
   "metadata": {},
   "outputs": [],
   "source": [
    "# ensemble by combine the correlations list\n",
    "def ensemble_emoji_prodictor(word, model1, model2, thres):\n",
    "    p1 = emoji_prodictor(word, model1)\n",
    "    p2 = emoji_prodictor(word, model2)\n",
    "    t = int(thres*non_zero_count)\n",
    "    l1 = list(sort_freq.keys())[:t]\n",
    "    l2 = list(sort_freq.keys())[t:]\n",
    "    if p2 in l2:\n",
    "        return p2\n",
    "    else:\n",
    "        return p1"
   ]
  },
  {
   "cell_type": "code",
   "execution_count": 59,
   "metadata": {},
   "outputs": [],
   "source": [
    "# define score function \n",
    "def word2vec_score_emsemble(val_dict,model1, model2, thres):\n",
    "    total_words = 0\n",
    "    total_predicts = 0\n",
    "    correct = 0\n",
    "    words = []\n",
    "    word_vectors = model1.wv\n",
    "    for word in val_dict:\n",
    "#         print(word)\n",
    "        if word:\n",
    "            w = word.lower()\n",
    "            words.append(w)\n",
    "            if w in word_vectors:\n",
    "                total_words += 1\n",
    "                pred = ensemble_emoji_prodictor(w, model1, model2, thres)\n",
    "                if pred in val_dict[word]:\n",
    "                    correct += 1\n",
    "                    total_predicts += 1\n",
    "                elif pred in emoji_list:\n",
    "                    total_predicts += 1\n",
    "    return correct/total_words, correct/total_predicts, words\n",
    "            "
   ]
  },
  {
   "cell_type": "code",
   "execution_count": 74,
   "metadata": {},
   "outputs": [
    {
     "data": {
      "text/plain": [
       "(0.17658473479948253, 0.2161520190023753)"
      ]
     },
     "execution_count": 74,
     "metadata": {},
     "output_type": "execute_result"
    }
   ],
   "source": [
    "word2vec_score_emsemble(val_dict,model1, model2, 0.5)[:2]"
   ]
  },
  {
   "cell_type": "code",
   "execution_count": 75,
   "metadata": {},
   "outputs": [
    {
     "data": {
      "text/plain": [
       "array([0.05, 0.1 , 0.15, 0.2 , 0.25, 0.3 , 0.35, 0.4 , 0.45, 0.5 , 0.55,\n",
       "       0.6 , 0.65, 0.7 , 0.75, 0.8 , 0.85, 0.9 , 0.95])"
      ]
     },
     "execution_count": 75,
     "metadata": {},
     "output_type": "execute_result"
    }
   ],
   "source": [
    "thres_arr = np.linspace(0.05,0.95,19);thres_arr"
   ]
  },
  {
   "cell_type": "code",
   "execution_count": 76,
   "metadata": {},
   "outputs": [
    {
     "name": "stdout",
     "output_type": "stream",
     "text": [
      "0.05 (0.21733505821474774, 0.24651504035216434)\n",
      "0.1 (0.2166882276843467, 0.2501867064973861)\n",
      "0.15 (0.2147477360931436, 0.25018839487565936)\n",
      "0.2 (0.2089262613195343, 0.24506828528072838)\n",
      "0.25 (0.20310478654592498, 0.2389649923896499)\n",
      "0.3 (0.19728331177231564, 0.23318042813455658)\n",
      "0.35 (0.18952134540750323, 0.22608024691358025)\n",
      "0.39999999999999997 (0.18628719275549807, 0.223950233281493)\n",
      "0.44999999999999996 (0.18305304010349288, 0.22092115534738485)\n",
      "0.49999999999999994 (0.17658473479948253, 0.2161520190023753)\n",
      "0.5499999999999999 (0.17270375161707632, 0.21445783132530122)\n",
      "0.6 (0.17076326002587322, 0.21782178217821782)\n",
      "0.65 (0.1649417852522639, 0.21982758620689655)\n",
      "0.7 (0.1630012936610608, 0.2202797202797203)\n",
      "0.75 (0.1630012936610608, 0.2204724409448819)\n",
      "0.7999999999999999 (0.16235446313065977, 0.21978984238178634)\n",
      "0.85 (0.16235446313065977, 0.21978984238178634)\n",
      "0.9 (0.16235446313065977, 0.21978984238178634)\n",
      "0.95 (0.16235446313065977, 0.21978984238178634)\n"
     ]
    }
   ],
   "source": [
    "# if p2 in l2\n",
    "for thres in thres_arr:\n",
    "    print(thres, word2vec_score_emsemble(val_dict,model1, model2, thres)[:2])"
   ]
  },
  {
   "cell_type": "code",
   "execution_count": 75,
   "metadata": {},
   "outputs": [
    {
     "name": "stdout",
     "output_type": "stream",
     "text": [
      "0.0 (0.3168044077134986, 0.39792387543252594)\n",
      "0.01 (0.31735537190082647, 0.4129032258064516)\n",
      "0.02 (0.3162534435261708, 0.41867250182348653)\n",
      "0.03 (0.3168044077134986, 0.4316816816816817)\n",
      "0.04 (0.315702479338843, 0.43541033434650456)\n",
      "0.05 (0.315702479338843, 0.4428129829984544)\n",
      "0.06 (0.31735537190082647, 0.4496487119437939)\n",
      "0.07 (0.3179063360881543, 0.45361635220125784)\n",
      "0.08 (0.3179063360881543, 0.45468873128447596)\n",
      "0.09 (0.3168044077134986, 0.4552652414885194)\n",
      "0.1 (0.315702479338843, 0.4551231135822081)\n",
      "0.11 (0.315702479338843, 0.4573024740622506)\n",
      "0.12 (0.3146005509641873, 0.45974235104669886)\n",
      "0.13 (0.3140495867768595, 0.46116504854368934)\n",
      "0.14 (0.31129476584022037, 0.4586038961038961)\n",
      "0.15 (0.31074380165289256, 0.4592833876221498)\n",
      "0.16 (0.31129476584022037, 0.46273546273546273)\n",
      "0.17 (0.31019283746556475, 0.4629934210526316)\n",
      "0.18 (0.31239669421487604, 0.4666666666666667)\n",
      "0.19 (0.31184573002754823, 0.4666117065127782)\n",
      "0.2 (0.31074380165289256, 0.46688741721854304)\n"
     ]
    }
   ],
   "source": [
    "# if p2 in l2 in full\n",
    "thres_arr = np.linspace(0,0.20,21)\n",
    "for thres in thres_arr:\n",
    "    print(thres, word2vec_score_emsemble(val_dict,model1_1, model2_2, thres)[:2])"
   ]
  },
  {
   "cell_type": "code",
   "execution_count": 76,
   "metadata": {},
   "outputs": [
    {
     "name": "stdout",
     "output_type": "stream",
     "text": [
      "0.21 (0.31129476584022037, 0.46810273405136704)\n",
      "0.22 (0.3096418732782369, 0.46755407653910147)\n",
      "0.22999999999999998 (0.30798898071625347, 0.467000835421888)\n",
      "0.24 (0.3068870523415978, 0.466499162479062)\n",
      "0.25 (0.30633608815427, 0.46683459277917716)\n",
      "0.26 (0.30578512396694213, 0.4671717171717172)\n",
      "0.27 (0.30578512396694213, 0.4671717171717172)\n",
      "0.28 (0.3046831955922865, 0.4658803706823926)\n",
      "0.29000000000000004 (0.30413223140495865, 0.4654300168634064)\n",
      "0.30000000000000004 (0.3052341597796143, 0.4690939881456393)\n",
      "0.31 (0.3046831955922865, 0.46864406779661016)\n",
      "0.32 (0.30413223140495865, 0.4685908319185059)\n",
      "0.33 (0.30303030303030304, 0.467687074829932)\n",
      "0.34 (0.30303030303030304, 0.46808510638297873)\n",
      "0.35 (0.30247933884297523, 0.4672340425531915)\n",
      "0.36 (0.30137741046831956, 0.4675213675213675)\n",
      "0.37 (0.3002754820936639, 0.467409948542024)\n",
      "0.38 (0.2997245179063361, 0.4665523156089194)\n",
      "0.39 (0.2997245179063361, 0.4665523156089194)\n",
      "0.4 (0.2986225895316804, 0.4660361134995701)\n"
     ]
    }
   ],
   "source": [
    "# if p2 in l2 in full\n",
    "thres_arr = np.linspace(0.21,0.4,20)\n",
    "for thres in thres_arr:\n",
    "    print(thres, word2vec_score_emsemble(val_dict,model1_1, model2_2, thres)[:2])"
   ]
  },
  {
   "cell_type": "code",
   "execution_count": null,
   "metadata": {},
   "outputs": [],
   "source": []
  },
  {
   "cell_type": "code",
   "execution_count": 83,
   "metadata": {},
   "outputs": [],
   "source": [
    "ensemble_perf = [(0.0, 0.39792387543252594),\n",
    "(0.01, 0.4129032258064516),\n",
    "(0.02, 0.41867250182348653),\n",
    "(0.03, 0.4316816816816817),\n",
    "(0.04, 0.43541033434650456),\n",
    "(0.05, 0.4428129829984544),\n",
    "(0.06, 0.4496487119437939),\n",
    "(0.07, 0.45361635220125784),\n",
    "(0.08, 0.45468873128447596),\n",
    "(0.09, 0.4552652414885194),\n",
    "(0.1, 0.4551231135822081),\n",
    "(0.11, 0.4573024740622506),\n",
    "(0.12, 0.45974235104669886),\n",
    "(0.13, 0.46116504854368934),\n",
    "(0.14, 0.4586038961038961),\n",
    "(0.15, 0.4592833876221498),\n",
    "(0.16, 0.46273546273546273),\n",
    "(0.17, 0.4629934210526316),\n",
    "(0.18, 0.4666666666666667),\n",
    "(0.19, 0.4666117065127782),\n",
    "(0.2, 0.46688741721854304),\n",
    "(0.21, 0.46810273405136704),\n",
    "(0.22, 0.46755407653910147),\n",
    "(0.23, 0.467000835421888),\n",
    "(0.24, 0.466499162479062),\n",
    "(0.25, 0.46683459277917716),\n",
    "(0.26, 0.4671717171717172),\n",
    "(0.27, 0.4671717171717172),\n",
    "(0.28, 0.4658803706823926),\n",
    "(0.29, 0.4654300168634064),\n",
    "(0.30, 0.4690939881456393),\n",
    "(0.31, 0.46864406779661016),\n",
    "(0.32, 0.4685908319185059),\n",
    "(0.33, 0.467687074829932),\n",
    "(0.34, 0.46808510638297873),\n",
    "(0.35, 0.4672340425531915),\n",
    "(0.36, 0.4675213675213675),\n",
    "(0.37, 0.467409948542024),\n",
    "(0.38, 0.4665523156089194),\n",
    "(0.39, 0.4665523156089194),\n",
    "(0.4, 0.4660361134995701) ]\n",
    "\n"
   ]
  },
  {
   "cell_type": "code",
   "execution_count": 84,
   "metadata": {},
   "outputs": [],
   "source": [
    "df2 = pd.DataFrame(ensemble_perf, columns=[\"thres\", \"score\"])"
   ]
  },
  {
   "cell_type": "code",
   "execution_count": 103,
   "metadata": {},
   "outputs": [
    {
     "data": {
      "text/plain": [
       "<matplotlib.legend.Legend at 0x7f345f748cf8>"
      ]
     },
     "execution_count": 103,
     "metadata": {},
     "output_type": "execute_result"
    },
    {
     "data": {
      "image/png": "[encoded data removed]",
      "text/plain": [
       "<Figure size 864x504 with 1 Axes>"
      ]
     },
     "metadata": {
      "needs_background": "light"
     },
     "output_type": "display_data"
    }
   ],
   "source": [
    "import matplotlib.pyplot as plt\n",
    "fig, ax = plt.subplots(figsize=(12,7))\n",
    "df2.plot(x=\"thres\",ax=ax, label=\"Ensemble model\")\n",
    "ax.axvline(0.3,label=\"best thres\", c=\"k\")\n",
    "ax.axhline(.4602,label=\"CBOG\", c=\"aqua\")\n",
    "ax.axhline(0.4302,label=\"Skip-Gram\",c=\"purple\")\n",
    "ax.axhline(0.04696,label=\"baseline\",c=\"red\")\n",
    "ax.set_ylabel(\"Accuracy on emoji prediction\")\n",
    "ax.set_title(\"Model Performance\")\n",
    "ax.legend()"
   ]
  },
  {
   "cell_type": "code",
   "execution_count": null,
   "metadata": {},
   "outputs": [],
   "source": []
  },
  {
   "cell_type": "code",
   "execution_count": 73,
   "metadata": {},
   "outputs": [
    {
     "name": "stdout",
     "output_type": "stream",
     "text": [
      "0.8 (0.30633608815427, 0.3850415512465374)\n",
      "0.81 (0.30633608815427, 0.3847750865051903)\n",
      "0.8200000000000001 (0.30578512396694213, 0.38408304498269896)\n",
      "0.8300000000000001 (0.30578512396694213, 0.38408304498269896)\n",
      "0.8400000000000001 (0.30578512396694213, 0.38408304498269896)\n",
      "0.8500000000000001 (0.30578512396694213, 0.38408304498269896)\n",
      "0.86 (0.30578512396694213, 0.38408304498269896)\n",
      "0.87 (0.30578512396694213, 0.38408304498269896)\n",
      "0.88 (0.30578512396694213, 0.38408304498269896)\n",
      "0.89 (0.30578512396694213, 0.38408304498269896)\n",
      "0.9 (0.30578512396694213, 0.38408304498269896)\n",
      "0.91 (0.30578512396694213, 0.38408304498269896)\n",
      "0.92 (0.30578512396694213, 0.38408304498269896)\n",
      "0.93 (0.30578512396694213, 0.38408304498269896)\n",
      "0.9400000000000001 (0.30578512396694213, 0.38408304498269896)\n",
      "0.95 (0.30578512396694213, 0.38408304498269896)\n",
      "0.96 (0.30578512396694213, 0.38408304498269896)\n",
      "0.97 (0.30578512396694213, 0.38408304498269896)\n",
      "0.98 (0.30578512396694213, 0.38408304498269896)\n",
      "0.99 (0.30578512396694213, 0.38408304498269896)\n",
      "1.0 (0.30578512396694213, 0.38408304498269896)\n"
     ]
    }
   ],
   "source": [
    "# if p1 in l1\n",
    "thres_arr = np.linspace(0.80,1,21)\n",
    "for thres in thres_arr:\n",
    "    print(thres, word2vec_score_emsemble(val_dict,model1_1, model2_2, thres)[:2])"
   ]
  },
  {
   "cell_type": "code",
   "execution_count": null,
   "metadata": {},
   "outputs": [],
   "source": []
  },
  {
   "cell_type": "code",
   "execution_count": 86,
   "metadata": {},
   "outputs": [
    {
     "data": {
      "text/plain": [
       "0.267386829730014"
      ]
     },
     "execution_count": 86,
     "metadata": {},
     "output_type": "execute_result"
    }
   ],
   "source": [
    "word2vec_weighted_score(val_dict, model1, emoji_frequency)    # CBOW good at predicting more frequent word (high weight)"
   ]
  },
  {
   "cell_type": "code",
   "execution_count": 87,
   "metadata": {},
   "outputs": [
    {
     "data": {
      "text/plain": [
       "0.06241611360445485"
      ]
     },
     "execution_count": 87,
     "metadata": {},
     "output_type": "execute_result"
    }
   ],
   "source": [
    "word2vec_weighted_score(val_dict, model2, emoji_frequency)"
   ]
  },
  {
   "cell_type": "code",
   "execution_count": 89,
   "metadata": {},
   "outputs": [],
   "source": [
    "def word2vec_weighted_score_ensemble(val_dict, model1, model2, thres, emoji_frequency):\n",
    "    total_words = 0\n",
    "    total_weighted = 0\n",
    "    correct_weighted = 0\n",
    "#     words = []\n",
    "    word_vectors = model1.wv\n",
    "    for word in val_dict:\n",
    "        if word:\n",
    "            w = word.lower()\n",
    "#             words.append(w)\n",
    "            if w in word_vectors:\n",
    "                total_words += 1\n",
    "                prediction = ensemble_emoji_prodictor(w, model1, model2, thres)\n",
    "                if prediction in val_dict[word]:\n",
    "                    correct_weighted += emoji_frequency[prediction]\n",
    "                    total_weighted += emoji_frequency[prediction]\n",
    "                elif prediction in emoji_list:\n",
    "                    total_weighted += emoji_frequency[prediction]\n",
    "    return correct_weighted/total_weighted"
   ]
  },
  {
   "cell_type": "code",
   "execution_count": 90,
   "metadata": {},
   "outputs": [
    {
     "data": {
      "text/plain": [
       "0.09934862490553567"
      ]
     },
     "execution_count": 90,
     "metadata": {},
     "output_type": "execute_result"
    }
   ],
   "source": [
    "word2vec_weighted_score_ensemble(val_dict, model1, model2, 0.06, emoji_frequency)"
   ]
  },
  {
   "cell_type": "code",
   "execution_count": 91,
   "metadata": {},
   "outputs": [
    {
     "name": "stdout",
     "output_type": "stream",
     "text": [
      "0.08474481924748074\n",
      "0.09006502653848159\n",
      "0.09479537639495465\n",
      "0.09471136964476934\n",
      "0.09519971373942336\n",
      "0.09934862490553567\n",
      "0.10045718196569688\n",
      "0.10347345581361085\n",
      "0.10329134014169694\n",
      "0.10327865628196051\n",
      "0.10330389100633897\n",
      "0.10388116539603176\n",
      "0.10619495618015533\n",
      "0.10655389009358177\n",
      "0.11036054258964167\n",
      "0.11017199038168167\n",
      "0.11088114427920304\n",
      "0.11100778048100647\n",
      "0.11247291178759795\n",
      "0.11263821026961353\n"
     ]
    }
   ],
   "source": [
    "# if p1 in l1\n",
    "thres_arr = np.linspace(0.01,0.20,20)\n",
    "for thres in thres_arr:\n",
    "    print(word2vec_weighted_score_ensemble(val_dict, model1, model2, thres, emoji_frequency))"
   ]
  },
  {
   "cell_type": "code",
   "execution_count": 96,
   "metadata": {},
   "outputs": [],
   "source": [
    "s1 = \"Head shoulders knees and toes knees and toes\"\n",
    "s2 = \"And eyes and ears and mouth and mouth and nose\""
   ]
  },
  {
   "cell_type": "code",
   "execution_count": 98,
   "metadata": {},
   "outputs": [
    {
     "name": "stdout",
     "output_type": "stream",
     "text": [
      "head\n",
      "shoulders\n",
      "knees\n",
      "😊\n",
      "🍆\n",
      "knees\n",
      "😊\n",
      "🍆\n",
      "😊\n",
      "eyes\n",
      "😊\n",
      "ears\n",
      "😊\n",
      "🍆\n",
      "😊\n",
      "🍆\n",
      "😊\n",
      "nose\n"
     ]
    }
   ],
   "source": [
    "for w in s1.lower().split(\" \"):\n",
    "    print(emoji_prodictor(w, model1))\n",
    "for w in s2.lower().split(\" \"):\n",
    "    print(emoji_prodictor(w, model1))"
   ]
  },
  {
   "cell_type": "code",
   "execution_count": 99,
   "metadata": {},
   "outputs": [
    {
     "name": "stdout",
     "output_type": "stream",
     "text": [
      "head\n",
      "💁🏾\n",
      "🙇🏽‍♀️\n",
      "😂\n",
      "💅\n",
      "🙇🏽‍♀️\n",
      "😂\n",
      "💅\n",
      "😂\n",
      "eyes\n",
      "😂\n",
      "ears\n",
      "😂\n",
      "🙇🏾‍♀️\n",
      "😂\n",
      "🙇🏾‍♀️\n",
      "😂\n",
      "nose\n"
     ]
    }
   ],
   "source": [
    "for w in s1.lower().split(\" \"):\n",
    "    print(emoji_prodictor(w, model2))\n",
    "for w in s2.lower().split(\" \"):\n",
    "    print(emoji_prodictor(w, model2))"
   ]
  },
  {
   "cell_type": "markdown",
   "metadata": {},
   "source": [
    "-------------------------\n",
    "# RNN model"
   ]
  },
  {
   "cell_type": "code",
   "execution_count": 111,
   "metadata": {},
   "outputs": [
    {
     "name": "stdout",
     "output_type": "stream",
     "text": [
      "text length 5835178\n",
      "total chars:  2338\n"
     ]
    }
   ],
   "source": [
    "with open('emoji_100k.txt', 'r') as file:\n",
    "    text = file.read().lower()\n",
    "print('text length', len(text))\n",
    "chars = sorted(list(set(text))) # getting all unique chars\n",
    "print('total chars: ', len(chars))\n",
    "char_indices = dict((c, i) for i, c in enumerate(chars))\n",
    "indices_char = dict((i, c) for i, c in enumerate(chars))"
   ]
  },
  {
   "cell_type": "markdown",
   "metadata": {},
   "source": [
    "RNN model not working here since RNN requires a large X matrix, with 3 dimension as (num_of_lines * window_size * num_of_chars)\n",
    "Since we have a very large num_of_char and lots of num_of_lines. It requires hundreds of gigabytes memory to run each for a small sample."
   ]
  },
  {
   "cell_type": "code",
   "execution_count": null,
   "metadata": {},
   "outputs": [],
   "source": []
  },
  {
   "cell_type": "code",
   "execution_count": 112,
   "metadata": {},
   "outputs": [
    {
     "ename": "MemoryError",
     "evalue": "Unable to allocate 169. GiB for an array with shape (1945046, 40, 2338) and data type bool",
     "output_type": "error",
     "traceback": [
      "\u001b[0;31m---------------------------------------------------------------------------\u001b[0m",
      "\u001b[0;31mMemoryError\u001b[0m                               Traceback (most recent call last)",
      "\u001b[0;32m<ipython-input-112-00250b46519c>\u001b[0m in \u001b[0;36m<module>\u001b[0;34m\u001b[0m\n\u001b[1;32m      6\u001b[0m     \u001b[0msentences\u001b[0m\u001b[0;34m.\u001b[0m\u001b[0mappend\u001b[0m\u001b[0;34m(\u001b[0m\u001b[0mtext\u001b[0m\u001b[0;34m[\u001b[0m\u001b[0mi\u001b[0m\u001b[0;34m:\u001b[0m \u001b[0mi\u001b[0m \u001b[0;34m+\u001b[0m \u001b[0mmaxlen\u001b[0m\u001b[0;34m]\u001b[0m\u001b[0;34m)\u001b[0m\u001b[0;34m\u001b[0m\u001b[0m\n\u001b[1;32m      7\u001b[0m     \u001b[0mnext_chars\u001b[0m\u001b[0;34m.\u001b[0m\u001b[0mappend\u001b[0m\u001b[0;34m(\u001b[0m\u001b[0mtext\u001b[0m\u001b[0;34m[\u001b[0m\u001b[0mi\u001b[0m \u001b[0;34m+\u001b[0m \u001b[0mmaxlen\u001b[0m\u001b[0;34m]\u001b[0m\u001b[0;34m)\u001b[0m\u001b[0;34m\u001b[0m\u001b[0m\n\u001b[0;32m----> 8\u001b[0;31m \u001b[0mx\u001b[0m \u001b[0;34m=\u001b[0m \u001b[0mnp\u001b[0m\u001b[0;34m.\u001b[0m\u001b[0mzeros\u001b[0m\u001b[0;34m(\u001b[0m\u001b[0;34m(\u001b[0m\u001b[0mlen\u001b[0m\u001b[0;34m(\u001b[0m\u001b[0msentences\u001b[0m\u001b[0;34m)\u001b[0m\u001b[0;34m,\u001b[0m \u001b[0mmaxlen\u001b[0m\u001b[0;34m,\u001b[0m \u001b[0mlen\u001b[0m\u001b[0;34m(\u001b[0m\u001b[0mchars\u001b[0m\u001b[0;34m)\u001b[0m\u001b[0;34m)\u001b[0m\u001b[0;34m,\u001b[0m \u001b[0mdtype\u001b[0m\u001b[0;34m=\u001b[0m\u001b[0mnp\u001b[0m\u001b[0;34m.\u001b[0m\u001b[0mbool\u001b[0m\u001b[0;34m)\u001b[0m\u001b[0;34m\u001b[0m\u001b[0m\n\u001b[0m\u001b[1;32m      9\u001b[0m \u001b[0my\u001b[0m \u001b[0;34m=\u001b[0m \u001b[0mnp\u001b[0m\u001b[0;34m.\u001b[0m\u001b[0mzeros\u001b[0m\u001b[0;34m(\u001b[0m\u001b[0;34m(\u001b[0m\u001b[0mlen\u001b[0m\u001b[0;34m(\u001b[0m\u001b[0msentences\u001b[0m\u001b[0;34m)\u001b[0m\u001b[0;34m,\u001b[0m \u001b[0mlen\u001b[0m\u001b[0;34m(\u001b[0m\u001b[0mchars\u001b[0m\u001b[0;34m)\u001b[0m\u001b[0;34m)\u001b[0m\u001b[0;34m,\u001b[0m \u001b[0mdtype\u001b[0m\u001b[0;34m=\u001b[0m\u001b[0mnp\u001b[0m\u001b[0;34m.\u001b[0m\u001b[0mbool\u001b[0m\u001b[0;34m)\u001b[0m\u001b[0;34m\u001b[0m\u001b[0m\n\u001b[1;32m     10\u001b[0m \u001b[0;32mfor\u001b[0m \u001b[0mi\u001b[0m\u001b[0;34m,\u001b[0m \u001b[0msentence\u001b[0m \u001b[0;32min\u001b[0m \u001b[0menumerate\u001b[0m\u001b[0;34m(\u001b[0m\u001b[0msentences\u001b[0m\u001b[0;34m)\u001b[0m\u001b[0;34m:\u001b[0m\u001b[0;34m\u001b[0m\u001b[0m\n",
      "\u001b[0;31mMemoryError\u001b[0m: Unable to allocate 169. GiB for an array with shape (1945046, 40, 2338) and data type bool"
     ]
    }
   ],
   "source": [
    "maxlen = 40\n",
    "step = 3\n",
    "sentences = []\n",
    "next_chars = []\n",
    "for i in range(0, len(text) - maxlen, step):\n",
    "    sentences.append(text[i: i + maxlen])\n",
    "    next_chars.append(text[i + maxlen])\n",
    "x = np.zeros((len(sentences), maxlen, len(chars)), dtype=np.bool)\n",
    "y = np.zeros((len(sentences), len(chars)), dtype=np.bool)\n",
    "for i, sentence in enumerate(sentences):\n",
    "    for t, char in enumerate(sentence):\n",
    "        x[i, t, char_indices[char]] = 1\n",
    "    y[i, char_indices[next_chars[i]]] = 1"
   ]
  },
  {
   "cell_type": "code",
   "execution_count": null,
   "metadata": {},
   "outputs": [],
   "source": [
    "from keras.models import Sequential\n",
    "from keras.layers import Dense, Activation\n",
    "from keras.layers import LSTM\n",
    "from keras.optimizers import RMSprop\n",
    "model = Sequential()\n",
    "model.add(LSTM(128, input_shape=(maxlen, len(chars))))\n",
    "model.add(Dense(len(chars)))\n",
    "model.add(Activation('softmax'))\n",
    "optimizer = RMSprop(lr=0.01)\n",
    "model.compile(loss='categorical_crossentropy', optimizer=optimizer)"
   ]
  },
  {
   "cell_type": "code",
   "execution_count": null,
   "metadata": {},
   "outputs": [],
   "source": [
    "def sample(preds, temperature=1.0):\n",
    "    # helper function to sample an index from a probability array\n",
    "    preds = np.asarray(preds).astype('float64')\n",
    "    preds = np.log(preds) / temperature\n",
    "    exp_preds = np.exp(preds)\n",
    "    preds = exp_preds / np.sum(exp_preds)\n",
    "    probas = np.random.multinomial(1, preds, 1)\n",
    "    return np.argmax(probas)\n",
    "def on_epoch_end(epoch, logs):\n",
    "    # Function invoked at end of each epoch. Prints generated text.\n",
    "    print()\n",
    "    print('----- Generating text after Epoch: %d' % epoch)\n",
    "\n",
    "    start_index = random.randint(0, len(text) - maxlen - 1)\n",
    "    for diversity in [0.2, 0.5, 1.0, 1.2]:\n",
    "        print('----- diversity:', diversity)\n",
    "\n",
    "        generated = ''\n",
    "        sentence = text[start_index: start_index + maxlen]\n",
    "        generated += sentence\n",
    "        print('----- Generating with seed: \"' + sentence + '\"')\n",
    "        sys.stdout.write(generated)\n",
    "\n",
    "        for i in range(400):\n",
    "            x_pred = np.zeros((1, maxlen, len(chars)))\n",
    "            for t, char in enumerate(sentence):\n",
    "                x_pred[0, t, char_indices[char]] = 1.\n",
    "\n",
    "            preds = model.predict(x_pred, verbose=0)[0]\n",
    "            next_index = sample(preds, diversity)\n",
    "            next_char = indices_char[next_index]\n",
    "\n",
    "            generated += next_char\n",
    "            sentence = sentence[1:] + next_char\n",
    "\n",
    "            sys.stdout.write(next_char)\n",
    "            sys.stdout.flush()\n",
    "        print()\n",
    "print_callback = LambdaCallback(on_epoch_end=on_epoch_end)"
   ]
  },
  {
   "cell_type": "code",
   "execution_count": null,
   "metadata": {},
   "outputs": [],
   "source": [
    "from keras.callbacks import ModelCheckpoint\n",
    "\n",
    "filepath = \"weights.hdf5\"\n",
    "checkpoint = ModelCheckpoint(filepath, monitor='loss',\n",
    "                             verbose=1, save_best_only=True,\n",
    "                             mode='min')"
   ]
  },
  {
   "cell_type": "code",
   "execution_count": null,
   "metadata": {},
   "outputs": [],
   "source": [
    "from keras.callbacks import ReduceLROnPlateau\n",
    "reduce_lr = ReduceLROnPlateau(monitor='loss', factor=0.2,\n",
    "                              patience=1, min_lr=0.001)\n",
    "callbacks = [print_callback, checkpoint, reduce_lr]"
   ]
  },
  {
   "cell_type": "code",
   "execution_count": null,
   "metadata": {},
   "outputs": [],
   "source": [
    "model.fit(x, y, batch_size=128, epochs=5, callbacks=callbacks)"
   ]
  },
  {
   "cell_type": "code",
   "execution_count": null,
   "metadata": {},
   "outputs": [],
   "source": [
    "def generate_text(length, diversity):\n",
    "    # Get random starting text\n",
    "    start_index = random.randint(0, len(text) - maxlen - 1)\n",
    "    generated = ''\n",
    "    sentence = text[start_index: start_index + maxlen]\n",
    "    generated += sentence\n",
    "    for i in range(length):\n",
    "            x_pred = np.zeros((1, maxlen, len(chars)))\n",
    "            for t, char in enumerate(sentence):\n",
    "                x_pred[0, t, char_indices[char]] = 1.\n",
    "\n",
    "            preds = model.predict(x_pred, verbose=0)[0]\n",
    "            next_index = sample(preds, diversity)\n",
    "            next_char = indices_char[next_index]\n",
    "\n",
    "            generated += next_char\n",
    "            sentence = sentence[1:] + next_char\n",
    "    return generated"
   ]
  },
  {
   "cell_type": "code",
   "execution_count": null,
   "metadata": {},
   "outputs": [],
   "source": [
    "print(generate_text(500, 0.2)"
   ]
  },
  {
   "cell_type": "code",
   "execution_count": null,
   "metadata": {},
   "outputs": [],
   "source": []
  },
  {
   "cell_type": "code",
   "execution_count": null,
   "metadata": {},
   "outputs": [],
   "source": []
  },
  {
   "cell_type": "code",
   "execution_count": 109,
   "metadata": {},
   "outputs": [],
   "source": [
    "s= \"👍\""
   ]
  },
  {
   "cell_type": "code",
   "execution_count": 110,
   "metadata": {},
   "outputs": [
    {
     "data": {
      "text/plain": [
       "'👍'"
      ]
     },
     "execution_count": 110,
     "metadata": {},
     "output_type": "execute_result"
    }
   ],
   "source": [
    "s[0]"
   ]
  },
  {
   "cell_type": "code",
   "execution_count": null,
   "metadata": {},
   "outputs": [],
   "source": []
  }
 ],
 "metadata": {
  "kernelspec": {
   "display_name": "Python 3",
   "language": "python",
   "name": "python3"
  },
  "language_info": {
   "codemirror_mode": {
    "name": "ipython",
    "version": 3
   },
   "file_extension": ".py",
   "mimetype": "text/x-python",
   "name": "python",
   "nbconvert_exporter": "python",
   "pygments_lexer": "ipython3",
   "version": "3.6.5"
  }
 },
 "nbformat": 4,
 "nbformat_minor": 4
}
